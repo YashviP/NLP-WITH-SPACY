{
  "nbformat": 4,
  "nbformat_minor": 0,
  "metadata": {
    "colab": {
      "name": "Rule-Based matching.ipynb",
      "provenance": [],
      "authorship_tag": "ABX9TyOarwpf15Rp+uFP9jgZiW9i",
      "include_colab_link": true
    },
    "kernelspec": {
      "name": "python3",
      "display_name": "Python 3"
    },
    "language_info": {
      "name": "python"
    }
  },
  "cells": [
    {
      "cell_type": "markdown",
      "metadata": {
        "id": "view-in-github",
        "colab_type": "text"
      },
      "source": [
        "<a href=\"https://colab.research.google.com/github/YashviP/NLP-WITH-SPACY/blob/main/Rule_Based_matching.ipynb\" target=\"_parent\"><img src=\"https://colab.research.google.com/assets/colab-badge.svg\" alt=\"Open In Colab\"/></a>"
      ]
    },
    {
      "cell_type": "markdown",
      "metadata": {
        "id": "KcmmedJ3fD-D"
      },
      "source": [
        "# Rule Based matching "
      ]
    },
    {
      "cell_type": "markdown",
      "metadata": {
        "id": "Wh9yfgr0fVJC"
      },
      "source": [
        "```\n",
        "Rule-based systems are a good choice if there’s a more or less finite number of\n",
        "examples that you want to find in the data, or if there’s a very clear, \n",
        "structured pattern you can express with token rules or regular expressions.\n",
        "```\n",
        "source - https://spacy.io/usage\n"
      ]
    },
    {
      "cell_type": "markdown",
      "metadata": {
        "id": "3aVZ4EGl1uWl"
      },
      "source": [
        "# Token Matcher "
      ]
    },
    {
      "cell_type": "code",
      "metadata": {
        "id": "Je8T4bIyfbwH"
      },
      "source": [
        "!python3 -m spacy download en_core_web_md"
      ],
      "execution_count": null,
      "outputs": []
    },
    {
      "cell_type": "code",
      "metadata": {
        "colab": {
          "base_uri": "https://localhost:8080/"
        },
        "id": "xrB-CyMmh5_f",
        "outputId": "6412ff5a-43de-4e6d-e3af-10a52253cdec"
      },
      "source": [
        "import spacy\n",
        "from spacy.matcher import Matcher\n",
        "\n",
        "nlp = spacy.load(\"en_core_web_md\")\n",
        "matcher = Matcher(nlp.vocab)\n",
        "\n",
        "pattern = [{\"LOWER\": \"feb\"}, {\"IS_DIGIT\": True}, {\"IS_PUNCT\": True}, {\"IS_DIGIT\": True}]\n",
        "matcher.add(\"DATE\", [pattern])\n",
        "doc = nlp(\"Your expected delivery date is feb 8 , 2021\")\n",
        "\n",
        "matches = matcher(doc)\n",
        "for match_id, start, end in matches:\n",
        " print(doc[start:end])"
      ],
      "execution_count": null,
      "outputs": [
        {
          "output_type": "stream",
          "text": [
            "feb 8 , 2021\n"
          ],
          "name": "stdout"
        }
      ]
    },
    {
      "cell_type": "markdown",
      "metadata": {
        "id": "nIuP4D2h2S_3"
      },
      "source": [
        "# Regex Matcher"
      ]
    },
    {
      "cell_type": "code",
      "metadata": {
        "colab": {
          "base_uri": "https://localhost:8080/"
        },
        "id": "6S03XDmo2UmX",
        "outputId": "cbea52c3-db35-4bb9-97b2-cd63e14cd3e5"
      },
      "source": [
        "import spacy\n",
        "import re\n",
        "\n",
        "nlp = spacy.load(\"en_core_web_md\")\n",
        "doc = nlp(\"The United States of America (USA) are commonly known as the United States (U.S. or US) or America.\")\n",
        "\n",
        "expression = r\"U[.]?S[.]?\"\n",
        "for match in re.finditer(expression, doc.text):\n",
        "    start, end = match.span()\n",
        "    span = doc.char_span(start, end)\n",
        "    if span is not None:\n",
        "        print(\"Found match:\", span.text)"
      ],
      "execution_count": null,
      "outputs": [
        {
          "output_type": "stream",
          "text": [
            "Found match: U.S.\n",
            "Found match: US\n"
          ],
          "name": "stdout"
        }
      ]
    },
    {
      "cell_type": "markdown",
      "metadata": {
        "id": "01k_q4Rf4jxp"
      },
      "source": [
        "# Phrase Matcher\n",
        "used when list of terminologies to be matched "
      ]
    },
    {
      "cell_type": "code",
      "metadata": {
        "colab": {
          "base_uri": "https://localhost:8080/"
        },
        "id": "U3CwdnNY4q5A",
        "outputId": "6d04d307-2f45-4baa-bec0-d17dcb4b4e92"
      },
      "source": [
        "import spacy\n",
        "from spacy.matcher import PhraseMatcher\n",
        "nlp = spacy.load(\"en_core_web_md\")\n",
        "matcher = PhraseMatcher(nlp.vocab)\n",
        "\n",
        "#create the list of words to match\n",
        "lang_list = ['Python','C++','Java']\n",
        "\n",
        "#obtain doc object for each word in the list and store it in a list\n",
        "patterns = [nlp(lang) for lang in lang_list]\n",
        "#add the pattern to the matcher\n",
        "matcher.add(\"PROGRAMMING_LANGUAGE\", patterns)\n",
        "#process some text\n",
        "doc = nlp(\"Python requires less typing, provides new libraries, fast prototyping, and several other new features. C++ as of today in its efficiency, speed, and memory make it widely popular among coders. Java is platform-independent\")\n",
        "matches = matcher(doc)\n",
        "for match_id, start, end in matches:\n",
        " span = doc[start:end]\n",
        " print(span.text)"
      ],
      "execution_count": null,
      "outputs": [
        {
          "output_type": "stream",
          "text": [
            "Python\n",
            "C++\n",
            "Java\n"
          ],
          "name": "stdout"
        }
      ]
    },
    {
      "cell_type": "markdown",
      "metadata": {
        "id": "UvC6l2aW0iRX"
      },
      "source": [
        "## Extract Information from Invoice"
      ]
    },
    {
      "cell_type": "code",
      "metadata": {
        "id": "eFpLhL-VmWCQ"
      },
      "source": [
        "!apt install build-essential libpoppler-cpp-dev pkg-config python3-dev"
      ],
      "execution_count": null,
      "outputs": []
    },
    {
      "cell_type": "markdown",
      "metadata": {
        "id": "DCe_GGkm6YrG"
      },
      "source": [
        ""
      ]
    },
    {
      "cell_type": "code",
      "metadata": {
        "colab": {
          "base_uri": "https://localhost:8080/"
        },
        "id": "n9cJNOtgmauC",
        "outputId": "1371eb6d-54e7-487f-c099-b7e54f7cd5ee"
      },
      "source": [
        "!pip install pdftotext"
      ],
      "execution_count": null,
      "outputs": [
        {
          "output_type": "stream",
          "text": [
            "Requirement already satisfied: pdftotext in /usr/local/lib/python3.7/dist-packages (2.1.6)\n"
          ],
          "name": "stdout"
        }
      ]
    },
    {
      "cell_type": "code",
      "metadata": {
        "id": "EmZRYbcgmmKl"
      },
      "source": [
        "import pdftotext\n",
        "\n",
        "# Load your PDF\n",
        "with open(\"/content/invoice-test.pdf\", \"rb\") as f:\n",
        "    pdf = pdftotext.PDF(f)\n"
      ],
      "execution_count": null,
      "outputs": []
    },
    {
      "cell_type": "code",
      "metadata": {
        "colab": {
          "base_uri": "https://localhost:8080/"
        },
        "id": "Uo7eZpkumsUp",
        "outputId": "242b5628-96a9-47d8-e90f-9182681dc921"
      },
      "source": [
        "for page in pdf:\n",
        "    print(page)"
      ],
      "execution_count": null,
      "outputs": [
        {
          "output_type": "stream",
          "text": [
            "                                          ABC technologies    123 Any Street\n",
            "                                               1234567890        Delhi, Delhi\n",
            "                                                                     112239\n",
            "                                                                         India\n",
            "Billed To    Date of Issue Invoice Number                 Amount Due (USD)\n",
            "Yashvi Patel\n",
            "ABC\n",
            "             09/06/2021\n",
            "             Due Date\n",
            "                           0000001\n",
            "                                                     $1,900.00\n",
            "Street A1\n",
            "Delhi        09/07/2021\n",
            "121150\n",
            "India\n",
            "Description                               Rate            Qty      Line Total\n",
            "Test Item                            $1,900.00              1      $1,900.00\n",
            "                                                Subtotal            1,900.00\n",
            "                                                    Tax                   0.00\n",
            "                                                   Total            1,900.00\n",
            "                                           Amount Paid                    0.00\n",
            "                                     Amount Due (USD)              $1,900.00\n",
            "\n"
          ],
          "name": "stdout"
        }
      ]
    },
    {
      "cell_type": "code",
      "metadata": {
        "id": "qORW8A-bvtqK"
      },
      "source": [
        "import re"
      ],
      "execution_count": null,
      "outputs": []
    },
    {
      "cell_type": "code",
      "metadata": {
        "colab": {
          "base_uri": "https://localhost:8080/"
        },
        "id": "6crWWJ2NnjhJ",
        "outputId": "55e3fb41-12c3-4c1d-d265-99232292ce37"
      },
      "source": [
        "\n",
        "amount_due=r\"Amount[ ]Due[ ]\\(USD\\)[ ]*\\$\\d*[ .,\\d]*\\d\"\n",
        "re.findall(amount_due,\"Amount Due (USD)                    $1,837.83\")"
      ],
      "execution_count": null,
      "outputs": [
        {
          "output_type": "execute_result",
          "data": {
            "text/plain": [
              "['Amount Due (USD)                    $1,837.83']"
            ]
          },
          "metadata": {
            "tags": []
          },
          "execution_count": 10
        }
      ]
    },
    {
      "cell_type": "code",
      "metadata": {
        "colab": {
          "base_uri": "https://localhost:8080/"
        },
        "id": "17E9oiojsWhG",
        "outputId": "630be779-4317-421c-c806-445e22887c0b"
      },
      "source": [
        "date=r\"(0[0-9]|1[0-9]|2[0-9]|3[0-1])[/](0[0-9]|1[0-2])[/]([1-2][0-9][0-9][0-9])\"\n",
        "re.findall(date,\" 06/09/2021  07/09/2021\")"
      ],
      "execution_count": null,
      "outputs": [
        {
          "output_type": "execute_result",
          "data": {
            "text/plain": [
              "[('06', '09', '2021'), ('07', '09', '2021')]"
            ]
          },
          "metadata": {
            "tags": []
          },
          "execution_count": 11
        }
      ]
    },
    {
      "cell_type": "code",
      "metadata": {
        "colab": {
          "base_uri": "https://localhost:8080/"
        },
        "id": "3TmGwp4btppz",
        "outputId": "a1f1f90e-ecbf-4b38-d4e6-ddabf266e947"
      },
      "source": [
        "invoice_number=\"[0-9]{7}\"\n",
        "re.findall(invoice_number,\"hello      1234567     6575812      \")"
      ],
      "execution_count": null,
      "outputs": [
        {
          "output_type": "execute_result",
          "data": {
            "text/plain": [
              "['1234567', '6575812']"
            ]
          },
          "metadata": {
            "tags": []
          },
          "execution_count": 28
        }
      ]
    },
    {
      "cell_type": "code",
      "metadata": {
        "id": "hbKROZKsnava"
      },
      "source": [
        "import re\n",
        "import spacy\n",
        "from spacy.tokens import Span\n",
        "from spacy.lang.en import English\n",
        "from spacy.language import Language\n",
        "\n",
        "\n",
        "@Language.component('regex_matcher')\n",
        "def regex_matcher(doc):\n",
        "  expressions={\n",
        "      \"amount_due\": re.compile(r\"Amount[ ]Due[ ]\\(USD\\)[ ]*\\$\\d*[ .,\\d]*\\d\"),\n",
        "      \"date\": re.compile(r\"(0[0-9]|1[0-9]|2[0-9]|3[0-1])[/](0[0-9]|1[0-2])[/]([1-2][0-9][0-9][0-9])\"),\n",
        "      \"invoice_number\": re.compile(r\"[0-9]{7}\")                \n",
        "  }\n",
        "  spans=[]\n",
        "  for label, expression in expressions.items():\n",
        "      for match in re.finditer(expression, doc.text):\n",
        "          start, end = match.span()\n",
        "          entity = doc.char_span(start, end, label=label)\n",
        "          if entity:\n",
        "            spans.append(entity)\n",
        "\n",
        "  doc.ents=list(doc.ents)+spacy.util.filter_spans(spans)\n",
        "  return doc\n",
        "  "
      ],
      "execution_count": null,
      "outputs": []
    },
    {
      "cell_type": "code",
      "metadata": {
        "colab": {
          "base_uri": "https://localhost:8080/"
        },
        "id": "2gVj09tgwlws",
        "outputId": "b2935468-5003-4cc1-dc24-c212cdb380e6"
      },
      "source": [
        "nlp = spacy.load('en_core_web_md', disable = ['ner'])\n",
        "nlp.add_pipe('regex_matcher')\n",
        "doc = nlp(pdf[0])\n",
        "\n",
        "for ent in doc.ents:\n",
        "    print(ent, ent.label_)"
      ],
      "execution_count": null,
      "outputs": [
        {
          "output_type": "stream",
          "text": [
            "09/06/2021 date\n",
            "0000001 invoice_number\n",
            "09/07/2021 date\n",
            "Amount Due (USD)              $1,900.00 amount_due\n"
          ],
          "name": "stdout"
        }
      ]
    },
    {
      "cell_type": "code",
      "metadata": {
        "colab": {
          "base_uri": "https://localhost:8080/",
          "height": 787
        },
        "id": "-ta49lAo0aKd",
        "outputId": "82018358-5277-4c62-c2b7-da723380bb40"
      },
      "source": [
        "from spacy import displacy\n",
        "displacy.render(doc, style='ent',jupyter=True)"
      ],
      "execution_count": null,
      "outputs": [
        {
          "output_type": "display_data",
          "data": {
            "text/html": [
              "<span class=\"tex2jax_ignore\"><div class=\"entities\" style=\"line-height: 2.5; direction: ltr\">                                          ABC technologies    123 Any Street</br>                                               1234567890        Delhi, Delhi</br>                                                                     112239</br>                                                                         India</br>Billed To    Date of Issue Invoice Number                 Amount Due (USD)</br>Yashvi Patel</br>ABC</br>             \n",
              "<mark class=\"entity\" style=\"background: #bfe1d9; padding: 0.45em 0.6em; margin: 0 0.25em; line-height: 1; border-radius: 0.35em;\">\n",
              "    09/06/2021\n",
              "    <span style=\"font-size: 0.8em; font-weight: bold; line-height: 1; border-radius: 0.35em; vertical-align: middle; margin-left: 0.5rem\">date</span>\n",
              "</mark>\n",
              "</br>             Due Date</br>                           \n",
              "<mark class=\"entity\" style=\"background: #ddd; padding: 0.45em 0.6em; margin: 0 0.25em; line-height: 1; border-radius: 0.35em;\">\n",
              "    0000001\n",
              "    <span style=\"font-size: 0.8em; font-weight: bold; line-height: 1; border-radius: 0.35em; vertical-align: middle; margin-left: 0.5rem\">invoice_number</span>\n",
              "</mark>\n",
              "</br>                                                     $1,900.00</br>Street A1</br>Delhi        \n",
              "<mark class=\"entity\" style=\"background: #bfe1d9; padding: 0.45em 0.6em; margin: 0 0.25em; line-height: 1; border-radius: 0.35em;\">\n",
              "    09/07/2021\n",
              "    <span style=\"font-size: 0.8em; font-weight: bold; line-height: 1; border-radius: 0.35em; vertical-align: middle; margin-left: 0.5rem\">date</span>\n",
              "</mark>\n",
              "</br>121150</br>India</br>Description                               Rate            Qty      Line Total</br>Test Item                            $1,900.00              1      $1,900.00</br>                                                Subtotal            1,900.00</br>                                                    Tax                   0.00</br>                                                   Total            1,900.00</br>                                           Amount Paid                    0.00</br>                                     \n",
              "<mark class=\"entity\" style=\"background: #ddd; padding: 0.45em 0.6em; margin: 0 0.25em; line-height: 1; border-radius: 0.35em;\">\n",
              "    Amount Due (USD)              $1,900.00\n",
              "    <span style=\"font-size: 0.8em; font-weight: bold; line-height: 1; border-radius: 0.35em; vertical-align: middle; margin-left: 0.5rem\">amount_due</span>\n",
              "</mark>\n",
              "</br></div></span>"
            ],
            "text/plain": [
              "<IPython.core.display.HTML object>"
            ]
          },
          "metadata": {
            "tags": []
          }
        }
      ]
    }
  ]
}